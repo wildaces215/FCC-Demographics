{
 "cells": [
  {
   "cell_type": "code",
   "execution_count": 3,
   "metadata": {},
   "outputs": [
    {
     "data": {
      "text/plain": [
       "\"\\n* How many people of each race are represented in this dataset? This should be a Pandas series with race names as the index labels. (`race` column)\\n* What is the average age of men?\\n* What is the percentage of people who have a Bachelor's degree?\\n* What percentage of people with advanced education (`Bachelors`, `Masters`, or `Doctorate`) make more than 50K?\\n* What percentage of people without advanced education make more than 50K?\\n* What is the minimum number of hours a person works per week?\\n* What percentage of the people who work the minimum number of hours per week have a salary of more than 50K?\\n* What country has the highest percentage of people that earn >50K and what is that percentage?\\n* Identify the most popular occupation for those who earn >50K in India. \\n\""
      ]
     },
     "execution_count": 3,
     "metadata": {},
     "output_type": "execute_result"
    }
   ],
   "source": [
    "#This is a Free Code Camp Project that analzyes data from the 1994 consenus database. Below are the following questions that must be answered to recieve credit for the project.\n",
    "'''\n",
    "* How many people of each race are represented in this dataset? This should be a Pandas series with race names as the index labels. (`race` column)\n",
    "* What is the average age of men?\n",
    "* What is the percentage of people who have a Bachelor's degree?\n",
    "* What percentage of people with advanced education (`Bachelors`, `Masters`, or `Doctorate`) make more than 50K?\n",
    "* What percentage of people without advanced education make more than 50K?\n",
    "* What is the minimum number of hours a person works per week?\n",
    "* What percentage of the people who work the minimum number of hours per week have a salary of more than 50K?\n",
    "* What country has the highest percentage of people that earn >50K and what is that percentage?\n",
    "* Identify the most popular occupation for those who earn >50K in India. \n",
    "'''\n"
   ]
  },
  {
   "cell_type": "code",
   "execution_count": 4,
   "metadata": {},
   "outputs": [],
   "source": [
    "import pandas as pd\n",
    "import numpy as np\n",
    "import matplotlib.pyplot as plt\n",
    "import seaborn as sns\n",
    "from matplotlib.pyplot import figure\n",
    "\n",
    "con_data = pd.read_csv('adult.data.csv')"
   ]
  },
  {
   "cell_type": "code",
   "execution_count": 5,
   "metadata": {},
   "outputs": [
    {
     "name": "stdout",
     "output_type": "stream",
     "text": [
      "Index(['age', 'workclass', 'fnlwgt', 'education', 'education-num',\n",
      "       'marital-status', 'occupation', 'relationship', 'race', 'sex',\n",
      "       'capital-gain', 'capital-loss', 'hours-per-week', 'native-country',\n",
      "       'salary'],\n",
      "      dtype='object')\n",
      "   age         workclass  fnlwgt  education  education-num  \\\n",
      "0   39         State-gov   77516  Bachelors             13   \n",
      "1   50  Self-emp-not-inc   83311  Bachelors             13   \n",
      "2   38           Private  215646    HS-grad              9   \n",
      "3   53           Private  234721       11th              7   \n",
      "4   28           Private  338409  Bachelors             13   \n",
      "\n",
      "       marital-status         occupation   relationship   race     sex  \\\n",
      "0       Never-married       Adm-clerical  Not-in-family  White    Male   \n",
      "1  Married-civ-spouse    Exec-managerial        Husband  White    Male   \n",
      "2            Divorced  Handlers-cleaners  Not-in-family  White    Male   \n",
      "3  Married-civ-spouse  Handlers-cleaners        Husband  Black    Male   \n",
      "4  Married-civ-spouse     Prof-specialty           Wife  Black  Female   \n",
      "\n",
      "   capital-gain  capital-loss  hours-per-week native-country salary  \n",
      "0          2174             0              40  United-States  <=50K  \n",
      "1             0             0              13  United-States  <=50K  \n",
      "2             0             0              40  United-States  <=50K  \n",
      "3             0             0              40  United-States  <=50K  \n",
      "4             0             0              40           Cuba  <=50K  \n",
      "age                int64\n",
      "workclass         object\n",
      "fnlwgt             int64\n",
      "education         object\n",
      "education-num      int64\n",
      "marital-status    object\n",
      "occupation        object\n",
      "relationship      object\n",
      "race              object\n",
      "sex               object\n",
      "capital-gain       int64\n",
      "capital-loss       int64\n",
      "hours-per-week     int64\n",
      "native-country    object\n",
      "salary            object\n",
      "dtype: object\n"
     ]
    }
   ],
   "source": [
    "#Get all columns as to understand what data was collected\n",
    "print(con_data.columns)\n",
    "print(con_data.head())\n",
    "print(con_data.dtypes)"
   ]
  },
  {
   "cell_type": "code",
   "execution_count": 6,
   "metadata": {},
   "outputs": [
    {
     "name": "stdout",
     "output_type": "stream",
     "text": [
      "White                 27816\n",
      "Black                  3124\n",
      "Asian-Pac-Islander     1039\n",
      "Amer-Indian-Eskimo      311\n",
      "Other                   271\n",
      "Name: race, dtype: int64\n"
     ]
    }
   ],
   "source": [
    "#How many people of each race are represented in this dataset? This should be a Pandas series with race names as the index labels. (`race` column)\n",
    "print(con_data['race'].value_counts())"
   ]
  },
  {
   "cell_type": "code",
   "execution_count": 7,
   "metadata": {},
   "outputs": [
    {
     "name": "stdout",
     "output_type": "stream",
     "text": [
      "39.43354749885268\n"
     ]
    }
   ],
   "source": [
    "#What is the average age of men?\n",
    "male_data = con_data[con_data['sex']=='Male'] \n",
    "print(male_data['age'].mean())"
   ]
  },
  {
   "cell_type": "code",
   "execution_count": 8,
   "metadata": {},
   "outputs": [
    {
     "data": {
      "text/plain": [
       "[<matplotlib.lines.Line2D at 0x7f9584c27190>]"
      ]
     },
     "execution_count": 8,
     "metadata": {},
     "output_type": "execute_result"
    },
    {
     "data": {
      "image/png": "[encoded data removed]",
      "text/plain": [
       "<Figure size 640x480 with 1 Axes>"
      ]
     },
     "metadata": {
      "needs_background": "light"
     },
     "output_type": "display_data"
    }
   ],
   "source": [
    "#What is the percentage of people who have a Bachelor's degree?\n",
    "#Created a ECDF to plot the answer for this\n",
    "x = np.sort(con_data['education'])\n",
    "y = np.arange(1,len(x)+1)/len(x)\n",
    "figure(figsize=(8, 6), dpi=80)\n",
    "plt.xlabel('Degree')\n",
    "plt.ylabel('Percentage')\n",
    "plt.xticks(rotation = 45)\n",
    "plt.plot(x,y,marker='.')\n",
    "#Roughly 40% of all people in the survey have a bachlors degree.\n"
   ]
  },
  {
   "cell_type": "code",
   "execution_count": 9,
   "metadata": {},
   "outputs": [
    {
     "name": "stdout",
     "output_type": "stream",
     "text": [
      "['<=50K', '>50K']\n",
      "46.535843011613935\n"
     ]
    }
   ],
   "source": [
    "#What percentage of people with advanced education (`Bachelors`, `Masters`, or `Doctorate`) make more than 50K?\n",
    "edu_data = con_data[con_data['education'].isin(['Masters','Bachelors','Doctorate'])]\n",
    "\n",
    "print(edu_data['salary'].value_counts().index.tolist())\n",
    "salary_totals = edu_data['salary'].value_counts().tolist()\n",
    "\n",
    "edu_income_percent = (salary_totals[1]/(salary_totals[0]+salary_totals[1])) *100\n",
    "print(edu_income_percent)"
   ]
  },
  {
   "cell_type": "code",
   "execution_count": 10,
   "metadata": {},
   "outputs": [
    {
     "name": "stdout",
     "output_type": "stream",
     "text": [
      "['<=50K', '>50K']\n",
      "[20715, 4355]\n",
      "17.3713601914639\n"
     ]
    }
   ],
   "source": [
    "#What percentage of people without advanced education make more than 50K?\n",
    "no_adv_data = con_data[con_data['education'].isin(['Masters','Bachelors','Doctorate']) == False]\n",
    "\n",
    "print(no_adv_data['salary'].value_counts().index.tolist())\n",
    "no_adv_sal = no_adv_data['salary'].value_counts().tolist()\n",
    "print(no_adv_sal)\n",
    "\n",
    "no_adv_per = (no_adv_sal[1] / (no_adv_sal[0]+no_adv_sal[1]) ) * 100\n",
    "print(no_adv_per)"
   ]
  },
  {
   "cell_type": "code",
   "execution_count": 11,
   "metadata": {},
   "outputs": [
    {
     "name": "stdout",
     "output_type": "stream",
     "text": [
      "1\n"
     ]
    }
   ],
   "source": [
    "#What is the minimum number of hours a person works per week?\n",
    "print(con_data['hours-per-week'].min())"
   ]
  },
  {
   "cell_type": "code",
   "execution_count": 18,
   "metadata": {},
   "outputs": [
    {
     "name": "stdout",
     "output_type": "stream",
     "text": [
      "<=50K    18\n",
      ">50K      2\n",
      "Name: salary, dtype: int64\n",
      "10.0\n"
     ]
    }
   ],
   "source": [
    "#What percentage of the people who work the minimum number of hours per week have a salary of more than 50K?\n",
    "min_hours_data = con_data[con_data['hours-per-week'] == 1]\n",
    "print(min_hours_data['salary'].value_counts())\n",
    "print((2/20) *100)"
   ]
  },
  {
   "cell_type": "code",
   "execution_count": 34,
   "metadata": {},
   "outputs": [
    {
     "name": "stdout",
     "output_type": "stream",
     "text": [
      "91.45517153424308\n",
      "United States\n"
     ]
    }
   ],
   "source": [
    "#What country has the highest percentage of people that earn >50K and what is that percentage?\n",
    "high_salary_data = con_data[con_data['salary']== '>50K']\n",
    "#print(high_salary_data['native-country'].value_counts()) \n",
    "high_salary_list = high_salary_data['native-country'].value_counts().tolist()\n",
    "print((high_salary_list[0]/sum(high_salary_list)) * 100)\n",
    "print(\"United States\")"
   ]
  },
  {
   "cell_type": "code",
   "execution_count": 31,
   "metadata": {},
   "outputs": [
    {
     "name": "stdout",
     "output_type": "stream",
     "text": [
      "Prof-specialty\n"
     ]
    }
   ],
   "source": [
    "#Identify the most popular occupation for those who earn >50K in India. \n",
    "india_data= con_data[(con_data['salary'] == \">50K\") & (con_data['native-country'] == \"India\") ]\n",
    "print(india_data['occupation'].value_counts().index.tolist()[0])"
   ]
  },
  {
   "cell_type": "code",
   "execution_count": null,
   "metadata": {},
   "outputs": [],
   "source": []
  }
 ],
 "metadata": {
  "kernelspec": {
   "display_name": "Python 3",
   "language": "python",
   "name": "python3"
  },
  "language_info": {
   "codemirror_mode": {
    "name": "ipython",
    "version": 3
   },
   "file_extension": ".py",
   "mimetype": "text/x-python",
   "name": "python",
   "nbconvert_exporter": "python",
   "pygments_lexer": "ipython3",
   "version": "3.7.6"
  }
 },
 "nbformat": 4,
 "nbformat_minor": 4
}
